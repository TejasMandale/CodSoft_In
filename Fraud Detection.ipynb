{
 "cells": [
  {
   "cell_type": "code",
   "execution_count": 1,
   "id": "ed2c815c",
   "metadata": {
    "execution": {
     "iopub.execute_input": "2024-01-14T16:10:32.000145Z",
     "iopub.status.busy": "2024-01-14T16:10:31.999316Z",
     "iopub.status.idle": "2024-01-14T16:10:34.536669Z",
     "shell.execute_reply": "2024-01-14T16:10:34.535358Z"
    },
    "papermill": {
     "duration": 2.554937,
     "end_time": "2024-01-14T16:10:34.540112",
     "exception": false,
     "start_time": "2024-01-14T16:10:31.985175",
     "status": "completed"
    },
    "tags": []
   },
   "outputs": [],
   "source": [
    "import pandas as pd\n",
    "import numpy as np\n",
    "from sklearn.model_selection import train_test_split\n",
    "from sklearn.linear_model import LogisticRegression\n",
    "from sklearn.metrics import accuracy_score, confusion_matrix, classification_report"
   ]
  },
  {
   "cell_type": "code",
   "execution_count": 2,
   "id": "ecb9e1ff",
   "metadata": {
    "execution": {
     "iopub.execute_input": "2024-01-14T16:10:34.566072Z",
     "iopub.status.busy": "2024-01-14T16:10:34.565411Z",
     "iopub.status.idle": "2024-01-14T16:10:40.438472Z",
     "shell.execute_reply": "2024-01-14T16:10:40.437271Z"
    },
    "papermill": {
     "duration": 5.889497,
     "end_time": "2024-01-14T16:10:40.441653",
     "exception": false,
     "start_time": "2024-01-14T16:10:34.552156",
     "status": "completed"
    },
    "tags": []
   },
   "outputs": [
    {
     "data": {
      "text/html": [
       "<div>\n",
       "<style scoped>\n",
       "    .dataframe tbody tr th:only-of-type {\n",
       "        vertical-align: middle;\n",
       "    }\n",
       "\n",
       "    .dataframe tbody tr th {\n",
       "        vertical-align: top;\n",
       "    }\n",
       "\n",
       "    .dataframe thead th {\n",
       "        text-align: right;\n",
       "    }\n",
       "</style>\n",
       "<table border=\"1\" class=\"dataframe\">\n",
       "  <thead>\n",
       "    <tr style=\"text-align: right;\">\n",
       "      <th></th>\n",
       "      <th>Time</th>\n",
       "      <th>V1</th>\n",
       "      <th>V2</th>\n",
       "      <th>V3</th>\n",
       "      <th>V4</th>\n",
       "      <th>V5</th>\n",
       "      <th>V6</th>\n",
       "      <th>V7</th>\n",
       "      <th>V8</th>\n",
       "      <th>V9</th>\n",
       "      <th>...</th>\n",
       "      <th>V21</th>\n",
       "      <th>V22</th>\n",
       "      <th>V23</th>\n",
       "      <th>V24</th>\n",
       "      <th>V25</th>\n",
       "      <th>V26</th>\n",
       "      <th>V27</th>\n",
       "      <th>V28</th>\n",
       "      <th>Amount</th>\n",
       "      <th>Class</th>\n",
       "    </tr>\n",
       "  </thead>\n",
       "  <tbody>\n",
       "    <tr>\n",
       "      <th>0</th>\n",
       "      <td>0.0</td>\n",
       "      <td>-1.359807</td>\n",
       "      <td>-0.072781</td>\n",
       "      <td>2.536347</td>\n",
       "      <td>1.378155</td>\n",
       "      <td>-0.338321</td>\n",
       "      <td>0.462388</td>\n",
       "      <td>0.239599</td>\n",
       "      <td>0.098698</td>\n",
       "      <td>0.363787</td>\n",
       "      <td>...</td>\n",
       "      <td>-0.018307</td>\n",
       "      <td>0.277838</td>\n",
       "      <td>-0.110474</td>\n",
       "      <td>0.066928</td>\n",
       "      <td>0.128539</td>\n",
       "      <td>-0.189115</td>\n",
       "      <td>0.133558</td>\n",
       "      <td>-0.021053</td>\n",
       "      <td>149.62</td>\n",
       "      <td>0</td>\n",
       "    </tr>\n",
       "    <tr>\n",
       "      <th>1</th>\n",
       "      <td>0.0</td>\n",
       "      <td>1.191857</td>\n",
       "      <td>0.266151</td>\n",
       "      <td>0.166480</td>\n",
       "      <td>0.448154</td>\n",
       "      <td>0.060018</td>\n",
       "      <td>-0.082361</td>\n",
       "      <td>-0.078803</td>\n",
       "      <td>0.085102</td>\n",
       "      <td>-0.255425</td>\n",
       "      <td>...</td>\n",
       "      <td>-0.225775</td>\n",
       "      <td>-0.638672</td>\n",
       "      <td>0.101288</td>\n",
       "      <td>-0.339846</td>\n",
       "      <td>0.167170</td>\n",
       "      <td>0.125895</td>\n",
       "      <td>-0.008983</td>\n",
       "      <td>0.014724</td>\n",
       "      <td>2.69</td>\n",
       "      <td>0</td>\n",
       "    </tr>\n",
       "    <tr>\n",
       "      <th>2</th>\n",
       "      <td>1.0</td>\n",
       "      <td>-1.358354</td>\n",
       "      <td>-1.340163</td>\n",
       "      <td>1.773209</td>\n",
       "      <td>0.379780</td>\n",
       "      <td>-0.503198</td>\n",
       "      <td>1.800499</td>\n",
       "      <td>0.791461</td>\n",
       "      <td>0.247676</td>\n",
       "      <td>-1.514654</td>\n",
       "      <td>...</td>\n",
       "      <td>0.247998</td>\n",
       "      <td>0.771679</td>\n",
       "      <td>0.909412</td>\n",
       "      <td>-0.689281</td>\n",
       "      <td>-0.327642</td>\n",
       "      <td>-0.139097</td>\n",
       "      <td>-0.055353</td>\n",
       "      <td>-0.059752</td>\n",
       "      <td>378.66</td>\n",
       "      <td>0</td>\n",
       "    </tr>\n",
       "    <tr>\n",
       "      <th>3</th>\n",
       "      <td>1.0</td>\n",
       "      <td>-0.966272</td>\n",
       "      <td>-0.185226</td>\n",
       "      <td>1.792993</td>\n",
       "      <td>-0.863291</td>\n",
       "      <td>-0.010309</td>\n",
       "      <td>1.247203</td>\n",
       "      <td>0.237609</td>\n",
       "      <td>0.377436</td>\n",
       "      <td>-1.387024</td>\n",
       "      <td>...</td>\n",
       "      <td>-0.108300</td>\n",
       "      <td>0.005274</td>\n",
       "      <td>-0.190321</td>\n",
       "      <td>-1.175575</td>\n",
       "      <td>0.647376</td>\n",
       "      <td>-0.221929</td>\n",
       "      <td>0.062723</td>\n",
       "      <td>0.061458</td>\n",
       "      <td>123.50</td>\n",
       "      <td>0</td>\n",
       "    </tr>\n",
       "    <tr>\n",
       "      <th>4</th>\n",
       "      <td>2.0</td>\n",
       "      <td>-1.158233</td>\n",
       "      <td>0.877737</td>\n",
       "      <td>1.548718</td>\n",
       "      <td>0.403034</td>\n",
       "      <td>-0.407193</td>\n",
       "      <td>0.095921</td>\n",
       "      <td>0.592941</td>\n",
       "      <td>-0.270533</td>\n",
       "      <td>0.817739</td>\n",
       "      <td>...</td>\n",
       "      <td>-0.009431</td>\n",
       "      <td>0.798278</td>\n",
       "      <td>-0.137458</td>\n",
       "      <td>0.141267</td>\n",
       "      <td>-0.206010</td>\n",
       "      <td>0.502292</td>\n",
       "      <td>0.219422</td>\n",
       "      <td>0.215153</td>\n",
       "      <td>69.99</td>\n",
       "      <td>0</td>\n",
       "    </tr>\n",
       "  </tbody>\n",
       "</table>\n",
       "<p>5 rows × 31 columns</p>\n",
       "</div>"
      ],
      "text/plain": [
       "   Time        V1        V2        V3        V4        V5        V6        V7  \\\n",
       "0   0.0 -1.359807 -0.072781  2.536347  1.378155 -0.338321  0.462388  0.239599   \n",
       "1   0.0  1.191857  0.266151  0.166480  0.448154  0.060018 -0.082361 -0.078803   \n",
       "2   1.0 -1.358354 -1.340163  1.773209  0.379780 -0.503198  1.800499  0.791461   \n",
       "3   1.0 -0.966272 -0.185226  1.792993 -0.863291 -0.010309  1.247203  0.237609   \n",
       "4   2.0 -1.158233  0.877737  1.548718  0.403034 -0.407193  0.095921  0.592941   \n",
       "\n",
       "         V8        V9  ...       V21       V22       V23       V24       V25  \\\n",
       "0  0.098698  0.363787  ... -0.018307  0.277838 -0.110474  0.066928  0.128539   \n",
       "1  0.085102 -0.255425  ... -0.225775 -0.638672  0.101288 -0.339846  0.167170   \n",
       "2  0.247676 -1.514654  ...  0.247998  0.771679  0.909412 -0.689281 -0.327642   \n",
       "3  0.377436 -1.387024  ... -0.108300  0.005274 -0.190321 -1.175575  0.647376   \n",
       "4 -0.270533  0.817739  ... -0.009431  0.798278 -0.137458  0.141267 -0.206010   \n",
       "\n",
       "        V26       V27       V28  Amount  Class  \n",
       "0 -0.189115  0.133558 -0.021053  149.62      0  \n",
       "1  0.125895 -0.008983  0.014724    2.69      0  \n",
       "2 -0.139097 -0.055353 -0.059752  378.66      0  \n",
       "3 -0.221929  0.062723  0.061458  123.50      0  \n",
       "4  0.502292  0.219422  0.215153   69.99      0  \n",
       "\n",
       "[5 rows x 31 columns]"
      ]
     },
     "execution_count": 2,
     "metadata": {},
     "output_type": "execute_result"
    }
   ],
   "source": [
    "df = pd.read_csv('creditcard.csv')\n",
    "df.head()\n"
   ]
  },
  {
   "cell_type": "code",
   "execution_count": 3,
   "id": "afd67c93",
   "metadata": {
    "execution": {
     "iopub.execute_input": "2024-01-14T16:10:40.468153Z",
     "iopub.status.busy": "2024-01-14T16:10:40.467102Z",
     "iopub.status.idle": "2024-01-14T16:10:40.499180Z",
     "shell.execute_reply": "2024-01-14T16:10:40.497808Z"
    },
    "papermill": {
     "duration": 0.048783,
     "end_time": "2024-01-14T16:10:40.502216",
     "exception": false,
     "start_time": "2024-01-14T16:10:40.453433",
     "status": "completed"
    },
    "tags": []
   },
   "outputs": [
    {
     "data": {
      "text/html": [
       "<div>\n",
       "<style scoped>\n",
       "    .dataframe tbody tr th:only-of-type {\n",
       "        vertical-align: middle;\n",
       "    }\n",
       "\n",
       "    .dataframe tbody tr th {\n",
       "        vertical-align: top;\n",
       "    }\n",
       "\n",
       "    .dataframe thead th {\n",
       "        text-align: right;\n",
       "    }\n",
       "</style>\n",
       "<table border=\"1\" class=\"dataframe\">\n",
       "  <thead>\n",
       "    <tr style=\"text-align: right;\">\n",
       "      <th></th>\n",
       "      <th>Time</th>\n",
       "      <th>V1</th>\n",
       "      <th>V2</th>\n",
       "      <th>V3</th>\n",
       "      <th>V4</th>\n",
       "      <th>V5</th>\n",
       "      <th>V6</th>\n",
       "      <th>V7</th>\n",
       "      <th>V8</th>\n",
       "      <th>V9</th>\n",
       "      <th>...</th>\n",
       "      <th>V21</th>\n",
       "      <th>V22</th>\n",
       "      <th>V23</th>\n",
       "      <th>V24</th>\n",
       "      <th>V25</th>\n",
       "      <th>V26</th>\n",
       "      <th>V27</th>\n",
       "      <th>V28</th>\n",
       "      <th>Amount</th>\n",
       "      <th>Class</th>\n",
       "    </tr>\n",
       "  </thead>\n",
       "  <tbody>\n",
       "    <tr>\n",
       "      <th>284802</th>\n",
       "      <td>172786.0</td>\n",
       "      <td>-11.881118</td>\n",
       "      <td>10.071785</td>\n",
       "      <td>-9.834783</td>\n",
       "      <td>-2.066656</td>\n",
       "      <td>-5.364473</td>\n",
       "      <td>-2.606837</td>\n",
       "      <td>-4.918215</td>\n",
       "      <td>7.305334</td>\n",
       "      <td>1.914428</td>\n",
       "      <td>...</td>\n",
       "      <td>0.213454</td>\n",
       "      <td>0.111864</td>\n",
       "      <td>1.014480</td>\n",
       "      <td>-0.509348</td>\n",
       "      <td>1.436807</td>\n",
       "      <td>0.250034</td>\n",
       "      <td>0.943651</td>\n",
       "      <td>0.823731</td>\n",
       "      <td>0.77</td>\n",
       "      <td>0</td>\n",
       "    </tr>\n",
       "    <tr>\n",
       "      <th>284803</th>\n",
       "      <td>172787.0</td>\n",
       "      <td>-0.732789</td>\n",
       "      <td>-0.055080</td>\n",
       "      <td>2.035030</td>\n",
       "      <td>-0.738589</td>\n",
       "      <td>0.868229</td>\n",
       "      <td>1.058415</td>\n",
       "      <td>0.024330</td>\n",
       "      <td>0.294869</td>\n",
       "      <td>0.584800</td>\n",
       "      <td>...</td>\n",
       "      <td>0.214205</td>\n",
       "      <td>0.924384</td>\n",
       "      <td>0.012463</td>\n",
       "      <td>-1.016226</td>\n",
       "      <td>-0.606624</td>\n",
       "      <td>-0.395255</td>\n",
       "      <td>0.068472</td>\n",
       "      <td>-0.053527</td>\n",
       "      <td>24.79</td>\n",
       "      <td>0</td>\n",
       "    </tr>\n",
       "    <tr>\n",
       "      <th>284804</th>\n",
       "      <td>172788.0</td>\n",
       "      <td>1.919565</td>\n",
       "      <td>-0.301254</td>\n",
       "      <td>-3.249640</td>\n",
       "      <td>-0.557828</td>\n",
       "      <td>2.630515</td>\n",
       "      <td>3.031260</td>\n",
       "      <td>-0.296827</td>\n",
       "      <td>0.708417</td>\n",
       "      <td>0.432454</td>\n",
       "      <td>...</td>\n",
       "      <td>0.232045</td>\n",
       "      <td>0.578229</td>\n",
       "      <td>-0.037501</td>\n",
       "      <td>0.640134</td>\n",
       "      <td>0.265745</td>\n",
       "      <td>-0.087371</td>\n",
       "      <td>0.004455</td>\n",
       "      <td>-0.026561</td>\n",
       "      <td>67.88</td>\n",
       "      <td>0</td>\n",
       "    </tr>\n",
       "    <tr>\n",
       "      <th>284805</th>\n",
       "      <td>172788.0</td>\n",
       "      <td>-0.240440</td>\n",
       "      <td>0.530483</td>\n",
       "      <td>0.702510</td>\n",
       "      <td>0.689799</td>\n",
       "      <td>-0.377961</td>\n",
       "      <td>0.623708</td>\n",
       "      <td>-0.686180</td>\n",
       "      <td>0.679145</td>\n",
       "      <td>0.392087</td>\n",
       "      <td>...</td>\n",
       "      <td>0.265245</td>\n",
       "      <td>0.800049</td>\n",
       "      <td>-0.163298</td>\n",
       "      <td>0.123205</td>\n",
       "      <td>-0.569159</td>\n",
       "      <td>0.546668</td>\n",
       "      <td>0.108821</td>\n",
       "      <td>0.104533</td>\n",
       "      <td>10.00</td>\n",
       "      <td>0</td>\n",
       "    </tr>\n",
       "    <tr>\n",
       "      <th>284806</th>\n",
       "      <td>172792.0</td>\n",
       "      <td>-0.533413</td>\n",
       "      <td>-0.189733</td>\n",
       "      <td>0.703337</td>\n",
       "      <td>-0.506271</td>\n",
       "      <td>-0.012546</td>\n",
       "      <td>-0.649617</td>\n",
       "      <td>1.577006</td>\n",
       "      <td>-0.414650</td>\n",
       "      <td>0.486180</td>\n",
       "      <td>...</td>\n",
       "      <td>0.261057</td>\n",
       "      <td>0.643078</td>\n",
       "      <td>0.376777</td>\n",
       "      <td>0.008797</td>\n",
       "      <td>-0.473649</td>\n",
       "      <td>-0.818267</td>\n",
       "      <td>-0.002415</td>\n",
       "      <td>0.013649</td>\n",
       "      <td>217.00</td>\n",
       "      <td>0</td>\n",
       "    </tr>\n",
       "  </tbody>\n",
       "</table>\n",
       "<p>5 rows × 31 columns</p>\n",
       "</div>"
      ],
      "text/plain": [
       "            Time         V1         V2        V3        V4        V5  \\\n",
       "284802  172786.0 -11.881118  10.071785 -9.834783 -2.066656 -5.364473   \n",
       "284803  172787.0  -0.732789  -0.055080  2.035030 -0.738589  0.868229   \n",
       "284804  172788.0   1.919565  -0.301254 -3.249640 -0.557828  2.630515   \n",
       "284805  172788.0  -0.240440   0.530483  0.702510  0.689799 -0.377961   \n",
       "284806  172792.0  -0.533413  -0.189733  0.703337 -0.506271 -0.012546   \n",
       "\n",
       "              V6        V7        V8        V9  ...       V21       V22  \\\n",
       "284802 -2.606837 -4.918215  7.305334  1.914428  ...  0.213454  0.111864   \n",
       "284803  1.058415  0.024330  0.294869  0.584800  ...  0.214205  0.924384   \n",
       "284804  3.031260 -0.296827  0.708417  0.432454  ...  0.232045  0.578229   \n",
       "284805  0.623708 -0.686180  0.679145  0.392087  ...  0.265245  0.800049   \n",
       "284806 -0.649617  1.577006 -0.414650  0.486180  ...  0.261057  0.643078   \n",
       "\n",
       "             V23       V24       V25       V26       V27       V28  Amount  \\\n",
       "284802  1.014480 -0.509348  1.436807  0.250034  0.943651  0.823731    0.77   \n",
       "284803  0.012463 -1.016226 -0.606624 -0.395255  0.068472 -0.053527   24.79   \n",
       "284804 -0.037501  0.640134  0.265745 -0.087371  0.004455 -0.026561   67.88   \n",
       "284805 -0.163298  0.123205 -0.569159  0.546668  0.108821  0.104533   10.00   \n",
       "284806  0.376777  0.008797 -0.473649 -0.818267 -0.002415  0.013649  217.00   \n",
       "\n",
       "        Class  \n",
       "284802      0  \n",
       "284803      0  \n",
       "284804      0  \n",
       "284805      0  \n",
       "284806      0  \n",
       "\n",
       "[5 rows x 31 columns]"
      ]
     },
     "execution_count": 3,
     "metadata": {},
     "output_type": "execute_result"
    }
   ],
   "source": [
    "df.tail()"
   ]
  },
  {
   "cell_type": "code",
   "execution_count": 4,
   "id": "e14721f7",
   "metadata": {
    "execution": {
     "iopub.execute_input": "2024-01-14T16:10:40.530093Z",
     "iopub.status.busy": "2024-01-14T16:10:40.528719Z",
     "iopub.status.idle": "2024-01-14T16:10:40.576224Z",
     "shell.execute_reply": "2024-01-14T16:10:40.574609Z"
    },
    "papermill": {
     "duration": 0.064369,
     "end_time": "2024-01-14T16:10:40.579069",
     "exception": false,
     "start_time": "2024-01-14T16:10:40.514700",
     "status": "completed"
    },
    "tags": []
   },
   "outputs": [
    {
     "name": "stdout",
     "output_type": "stream",
     "text": [
      "<class 'pandas.core.frame.DataFrame'>\n",
      "RangeIndex: 284807 entries, 0 to 284806\n",
      "Data columns (total 31 columns):\n",
      " #   Column  Non-Null Count   Dtype  \n",
      "---  ------  --------------   -----  \n",
      " 0   Time    284807 non-null  float64\n",
      " 1   V1      284807 non-null  float64\n",
      " 2   V2      284807 non-null  float64\n",
      " 3   V3      284807 non-null  float64\n",
      " 4   V4      284807 non-null  float64\n",
      " 5   V5      284807 non-null  float64\n",
      " 6   V6      284807 non-null  float64\n",
      " 7   V7      284807 non-null  float64\n",
      " 8   V8      284807 non-null  float64\n",
      " 9   V9      284807 non-null  float64\n",
      " 10  V10     284807 non-null  float64\n",
      " 11  V11     284807 non-null  float64\n",
      " 12  V12     284807 non-null  float64\n",
      " 13  V13     284807 non-null  float64\n",
      " 14  V14     284807 non-null  float64\n",
      " 15  V15     284807 non-null  float64\n",
      " 16  V16     284807 non-null  float64\n",
      " 17  V17     284807 non-null  float64\n",
      " 18  V18     284807 non-null  float64\n",
      " 19  V19     284807 non-null  float64\n",
      " 20  V20     284807 non-null  float64\n",
      " 21  V21     284807 non-null  float64\n",
      " 22  V22     284807 non-null  float64\n",
      " 23  V23     284807 non-null  float64\n",
      " 24  V24     284807 non-null  float64\n",
      " 25  V25     284807 non-null  float64\n",
      " 26  V26     284807 non-null  float64\n",
      " 27  V27     284807 non-null  float64\n",
      " 28  V28     284807 non-null  float64\n",
      " 29  Amount  284807 non-null  float64\n",
      " 30  Class   284807 non-null  int64  \n",
      "dtypes: float64(30), int64(1)\n",
      "memory usage: 67.4 MB\n"
     ]
    }
   ],
   "source": [
    "df.info()"
   ]
  },
  {
   "cell_type": "code",
   "execution_count": 5,
   "id": "fd6dd2e8",
   "metadata": {
    "execution": {
     "iopub.execute_input": "2024-01-14T16:10:40.606653Z",
     "iopub.status.busy": "2024-01-14T16:10:40.606210Z",
     "iopub.status.idle": "2024-01-14T16:10:40.628359Z",
     "shell.execute_reply": "2024-01-14T16:10:40.627125Z"
    },
    "papermill": {
     "duration": 0.039072,
     "end_time": "2024-01-14T16:10:40.631206",
     "exception": false,
     "start_time": "2024-01-14T16:10:40.592134",
     "status": "completed"
    },
    "tags": []
   },
   "outputs": [
    {
     "data": {
      "text/plain": [
       "Time      0\n",
       "V1        0\n",
       "V2        0\n",
       "V3        0\n",
       "V4        0\n",
       "V5        0\n",
       "V6        0\n",
       "V7        0\n",
       "V8        0\n",
       "V9        0\n",
       "V10       0\n",
       "V11       0\n",
       "V12       0\n",
       "V13       0\n",
       "V14       0\n",
       "V15       0\n",
       "V16       0\n",
       "V17       0\n",
       "V18       0\n",
       "V19       0\n",
       "V20       0\n",
       "V21       0\n",
       "V22       0\n",
       "V23       0\n",
       "V24       0\n",
       "V25       0\n",
       "V26       0\n",
       "V27       0\n",
       "V28       0\n",
       "Amount    0\n",
       "Class     0\n",
       "dtype: int64"
      ]
     },
     "execution_count": 5,
     "metadata": {},
     "output_type": "execute_result"
    }
   ],
   "source": [
    "df.isnull().sum()"
   ]
  },
  {
   "cell_type": "code",
   "execution_count": 6,
   "id": "d78f49e1",
   "metadata": {
    "execution": {
     "iopub.execute_input": "2024-01-14T16:10:40.659213Z",
     "iopub.status.busy": "2024-01-14T16:10:40.658810Z",
     "iopub.status.idle": "2024-01-14T16:10:40.671745Z",
     "shell.execute_reply": "2024-01-14T16:10:40.670362Z"
    },
    "papermill": {
     "duration": 0.030512,
     "end_time": "2024-01-14T16:10:40.674806",
     "exception": false,
     "start_time": "2024-01-14T16:10:40.644294",
     "status": "completed"
    },
    "tags": []
   },
   "outputs": [
    {
     "data": {
      "text/plain": [
       "Class\n",
       "0    284315\n",
       "1       492\n",
       "Name: count, dtype: int64"
      ]
     },
     "execution_count": 6,
     "metadata": {},
     "output_type": "execute_result"
    }
   ],
   "source": [
    "df['Class'].value_counts()"
   ]
  },
  {
   "cell_type": "code",
   "execution_count": 7,
   "id": "e23e440f",
   "metadata": {
    "execution": {
     "iopub.execute_input": "2024-01-14T16:10:40.704031Z",
     "iopub.status.busy": "2024-01-14T16:10:40.702673Z",
     "iopub.status.idle": "2024-01-14T16:10:40.757372Z",
     "shell.execute_reply": "2024-01-14T16:10:40.755707Z"
    },
    "papermill": {
     "duration": 0.072453,
     "end_time": "2024-01-14T16:10:40.760474",
     "exception": false,
     "start_time": "2024-01-14T16:10:40.688021",
     "status": "completed"
    },
    "tags": []
   },
   "outputs": [
    {
     "name": "stdout",
     "output_type": "stream",
     "text": [
      "(284315, 31)\n",
      "(492, 31)\n"
     ]
    }
   ],
   "source": [
    "normal = df[df.Class == 0]\n",
    "fraud = df[df.Class == 1]\n",
    "print(normal.shape)\n",
    "print(fraud.shape)"
   ]
  },
  {
   "cell_type": "code",
   "execution_count": 8,
   "id": "dbbde344",
   "metadata": {
    "execution": {
     "iopub.execute_input": "2024-01-14T16:10:40.789201Z",
     "iopub.status.busy": "2024-01-14T16:10:40.788409Z",
     "iopub.status.idle": "2024-01-14T16:10:40.817359Z",
     "shell.execute_reply": "2024-01-14T16:10:40.816067Z"
    },
    "papermill": {
     "duration": 0.046881,
     "end_time": "2024-01-14T16:10:40.820722",
     "exception": false,
     "start_time": "2024-01-14T16:10:40.773841",
     "status": "completed"
    },
    "tags": []
   },
   "outputs": [
    {
     "data": {
      "text/plain": [
       "count    284315.000000\n",
       "mean         88.291022\n",
       "std         250.105092\n",
       "min           0.000000\n",
       "25%           5.650000\n",
       "50%          22.000000\n",
       "75%          77.050000\n",
       "max       25691.160000\n",
       "Name: Amount, dtype: float64"
      ]
     },
     "execution_count": 8,
     "metadata": {},
     "output_type": "execute_result"
    }
   ],
   "source": [
    "#static value of amount\n",
    "normal.Amount.describe()"
   ]
  },
  {
   "cell_type": "code",
   "execution_count": 9,
   "id": "abf6c706",
   "metadata": {
    "execution": {
     "iopub.execute_input": "2024-01-14T16:10:40.849331Z",
     "iopub.status.busy": "2024-01-14T16:10:40.848888Z",
     "iopub.status.idle": "2024-01-14T16:10:40.860924Z",
     "shell.execute_reply": "2024-01-14T16:10:40.859726Z"
    },
    "papermill": {
     "duration": 0.029363,
     "end_time": "2024-01-14T16:10:40.863496",
     "exception": false,
     "start_time": "2024-01-14T16:10:40.834133",
     "status": "completed"
    },
    "tags": []
   },
   "outputs": [
    {
     "data": {
      "text/plain": [
       "count     492.000000\n",
       "mean      122.211321\n",
       "std       256.683288\n",
       "min         0.000000\n",
       "25%         1.000000\n",
       "50%         9.250000\n",
       "75%       105.890000\n",
       "max      2125.870000\n",
       "Name: Amount, dtype: float64"
      ]
     },
     "execution_count": 9,
     "metadata": {},
     "output_type": "execute_result"
    }
   ],
   "source": [
    "fraud.Amount.describe()"
   ]
  },
  {
   "cell_type": "code",
   "execution_count": 10,
   "id": "7b9ec52b",
   "metadata": {
    "execution": {
     "iopub.execute_input": "2024-01-14T16:10:40.892827Z",
     "iopub.status.busy": "2024-01-14T16:10:40.891795Z",
     "iopub.status.idle": "2024-01-14T16:10:41.002641Z",
     "shell.execute_reply": "2024-01-14T16:10:41.001166Z"
    },
    "papermill": {
     "duration": 0.129159,
     "end_time": "2024-01-14T16:10:41.005963",
     "exception": false,
     "start_time": "2024-01-14T16:10:40.876804",
     "status": "completed"
    },
    "tags": []
   },
   "outputs": [
    {
     "data": {
      "text/html": [
       "<div>\n",
       "<style scoped>\n",
       "    .dataframe tbody tr th:only-of-type {\n",
       "        vertical-align: middle;\n",
       "    }\n",
       "\n",
       "    .dataframe tbody tr th {\n",
       "        vertical-align: top;\n",
       "    }\n",
       "\n",
       "    .dataframe thead th {\n",
       "        text-align: right;\n",
       "    }\n",
       "</style>\n",
       "<table border=\"1\" class=\"dataframe\">\n",
       "  <thead>\n",
       "    <tr style=\"text-align: right;\">\n",
       "      <th></th>\n",
       "      <th>Time</th>\n",
       "      <th>V1</th>\n",
       "      <th>V2</th>\n",
       "      <th>V3</th>\n",
       "      <th>V4</th>\n",
       "      <th>V5</th>\n",
       "      <th>V6</th>\n",
       "      <th>V7</th>\n",
       "      <th>V8</th>\n",
       "      <th>V9</th>\n",
       "      <th>...</th>\n",
       "      <th>V20</th>\n",
       "      <th>V21</th>\n",
       "      <th>V22</th>\n",
       "      <th>V23</th>\n",
       "      <th>V24</th>\n",
       "      <th>V25</th>\n",
       "      <th>V26</th>\n",
       "      <th>V27</th>\n",
       "      <th>V28</th>\n",
       "      <th>Amount</th>\n",
       "    </tr>\n",
       "    <tr>\n",
       "      <th>Class</th>\n",
       "      <th></th>\n",
       "      <th></th>\n",
       "      <th></th>\n",
       "      <th></th>\n",
       "      <th></th>\n",
       "      <th></th>\n",
       "      <th></th>\n",
       "      <th></th>\n",
       "      <th></th>\n",
       "      <th></th>\n",
       "      <th></th>\n",
       "      <th></th>\n",
       "      <th></th>\n",
       "      <th></th>\n",
       "      <th></th>\n",
       "      <th></th>\n",
       "      <th></th>\n",
       "      <th></th>\n",
       "      <th></th>\n",
       "      <th></th>\n",
       "      <th></th>\n",
       "    </tr>\n",
       "  </thead>\n",
       "  <tbody>\n",
       "    <tr>\n",
       "      <th>0</th>\n",
       "      <td>94838.202258</td>\n",
       "      <td>0.008258</td>\n",
       "      <td>-0.006271</td>\n",
       "      <td>0.012171</td>\n",
       "      <td>-0.007860</td>\n",
       "      <td>0.005453</td>\n",
       "      <td>0.002419</td>\n",
       "      <td>0.009637</td>\n",
       "      <td>-0.000987</td>\n",
       "      <td>0.004467</td>\n",
       "      <td>...</td>\n",
       "      <td>-0.000644</td>\n",
       "      <td>-0.001235</td>\n",
       "      <td>-0.000024</td>\n",
       "      <td>0.000070</td>\n",
       "      <td>0.000182</td>\n",
       "      <td>-0.000072</td>\n",
       "      <td>-0.000089</td>\n",
       "      <td>-0.000295</td>\n",
       "      <td>-0.000131</td>\n",
       "      <td>88.291022</td>\n",
       "    </tr>\n",
       "    <tr>\n",
       "      <th>1</th>\n",
       "      <td>80746.806911</td>\n",
       "      <td>-4.771948</td>\n",
       "      <td>3.623778</td>\n",
       "      <td>-7.033281</td>\n",
       "      <td>4.542029</td>\n",
       "      <td>-3.151225</td>\n",
       "      <td>-1.397737</td>\n",
       "      <td>-5.568731</td>\n",
       "      <td>0.570636</td>\n",
       "      <td>-2.581123</td>\n",
       "      <td>...</td>\n",
       "      <td>0.372319</td>\n",
       "      <td>0.713588</td>\n",
       "      <td>0.014049</td>\n",
       "      <td>-0.040308</td>\n",
       "      <td>-0.105130</td>\n",
       "      <td>0.041449</td>\n",
       "      <td>0.051648</td>\n",
       "      <td>0.170575</td>\n",
       "      <td>0.075667</td>\n",
       "      <td>122.211321</td>\n",
       "    </tr>\n",
       "  </tbody>\n",
       "</table>\n",
       "<p>2 rows × 30 columns</p>\n",
       "</div>"
      ],
      "text/plain": [
       "               Time        V1        V2        V3        V4        V5  \\\n",
       "Class                                                                   \n",
       "0      94838.202258  0.008258 -0.006271  0.012171 -0.007860  0.005453   \n",
       "1      80746.806911 -4.771948  3.623778 -7.033281  4.542029 -3.151225   \n",
       "\n",
       "             V6        V7        V8        V9  ...       V20       V21  \\\n",
       "Class                                          ...                       \n",
       "0      0.002419  0.009637 -0.000987  0.004467  ... -0.000644 -0.001235   \n",
       "1     -1.397737 -5.568731  0.570636 -2.581123  ...  0.372319  0.713588   \n",
       "\n",
       "            V22       V23       V24       V25       V26       V27       V28  \\\n",
       "Class                                                                         \n",
       "0     -0.000024  0.000070  0.000182 -0.000072 -0.000089 -0.000295 -0.000131   \n",
       "1      0.014049 -0.040308 -0.105130  0.041449  0.051648  0.170575  0.075667   \n",
       "\n",
       "           Amount  \n",
       "Class              \n",
       "0       88.291022  \n",
       "1      122.211321  \n",
       "\n",
       "[2 rows x 30 columns]"
      ]
     },
     "execution_count": 10,
     "metadata": {},
     "output_type": "execute_result"
    }
   ],
   "source": [
    "#compare the both value\n",
    "df.groupby('Class').mean()"
   ]
  },
  {
   "cell_type": "code",
   "execution_count": 11,
   "id": "78a71e46",
   "metadata": {
    "execution": {
     "iopub.execute_input": "2024-01-14T16:10:41.036546Z",
     "iopub.status.busy": "2024-01-14T16:10:41.036138Z",
     "iopub.status.idle": "2024-01-14T16:10:41.073168Z",
     "shell.execute_reply": "2024-01-14T16:10:41.072268Z"
    },
    "papermill": {
     "duration": 0.055562,
     "end_time": "2024-01-14T16:10:41.075863",
     "exception": false,
     "start_time": "2024-01-14T16:10:41.020301",
     "status": "completed"
    },
    "tags": []
   },
   "outputs": [
    {
     "data": {
      "text/html": [
       "<div>\n",
       "<style scoped>\n",
       "    .dataframe tbody tr th:only-of-type {\n",
       "        vertical-align: middle;\n",
       "    }\n",
       "\n",
       "    .dataframe tbody tr th {\n",
       "        vertical-align: top;\n",
       "    }\n",
       "\n",
       "    .dataframe thead th {\n",
       "        text-align: right;\n",
       "    }\n",
       "</style>\n",
       "<table border=\"1\" class=\"dataframe\">\n",
       "  <thead>\n",
       "    <tr style=\"text-align: right;\">\n",
       "      <th></th>\n",
       "      <th>Time</th>\n",
       "      <th>V1</th>\n",
       "      <th>V2</th>\n",
       "      <th>V3</th>\n",
       "      <th>V4</th>\n",
       "      <th>V5</th>\n",
       "      <th>V6</th>\n",
       "      <th>V7</th>\n",
       "      <th>V8</th>\n",
       "      <th>V9</th>\n",
       "      <th>...</th>\n",
       "      <th>V21</th>\n",
       "      <th>V22</th>\n",
       "      <th>V23</th>\n",
       "      <th>V24</th>\n",
       "      <th>V25</th>\n",
       "      <th>V26</th>\n",
       "      <th>V27</th>\n",
       "      <th>V28</th>\n",
       "      <th>Amount</th>\n",
       "      <th>Class</th>\n",
       "    </tr>\n",
       "  </thead>\n",
       "  <tbody>\n",
       "    <tr>\n",
       "      <th>24744</th>\n",
       "      <td>33362.0</td>\n",
       "      <td>1.121491</td>\n",
       "      <td>-0.946323</td>\n",
       "      <td>0.437724</td>\n",
       "      <td>-0.748922</td>\n",
       "      <td>-1.111741</td>\n",
       "      <td>-0.403156</td>\n",
       "      <td>-0.582528</td>\n",
       "      <td>-0.042594</td>\n",
       "      <td>-0.979918</td>\n",
       "      <td>...</td>\n",
       "      <td>0.104703</td>\n",
       "      <td>-0.131058</td>\n",
       "      <td>-0.074003</td>\n",
       "      <td>-0.003195</td>\n",
       "      <td>0.217446</td>\n",
       "      <td>-0.422956</td>\n",
       "      <td>-0.009860</td>\n",
       "      <td>0.034590</td>\n",
       "      <td>142.46</td>\n",
       "      <td>0</td>\n",
       "    </tr>\n",
       "    <tr>\n",
       "      <th>32572</th>\n",
       "      <td>36855.0</td>\n",
       "      <td>0.258710</td>\n",
       "      <td>-1.315833</td>\n",
       "      <td>0.404775</td>\n",
       "      <td>1.118264</td>\n",
       "      <td>-0.283324</td>\n",
       "      <td>1.881561</td>\n",
       "      <td>-0.298830</td>\n",
       "      <td>0.624569</td>\n",
       "      <td>0.148387</td>\n",
       "      <td>...</td>\n",
       "      <td>0.562493</td>\n",
       "      <td>0.948261</td>\n",
       "      <td>-0.304393</td>\n",
       "      <td>-1.002235</td>\n",
       "      <td>0.041717</td>\n",
       "      <td>-0.186385</td>\n",
       "      <td>0.044572</td>\n",
       "      <td>0.070705</td>\n",
       "      <td>374.00</td>\n",
       "      <td>0</td>\n",
       "    </tr>\n",
       "    <tr>\n",
       "      <th>21179</th>\n",
       "      <td>31521.0</td>\n",
       "      <td>-3.656307</td>\n",
       "      <td>2.143605</td>\n",
       "      <td>-0.619436</td>\n",
       "      <td>-0.751792</td>\n",
       "      <td>-1.130467</td>\n",
       "      <td>1.631354</td>\n",
       "      <td>-1.776657</td>\n",
       "      <td>2.997719</td>\n",
       "      <td>-0.077941</td>\n",
       "      <td>...</td>\n",
       "      <td>0.368690</td>\n",
       "      <td>0.967756</td>\n",
       "      <td>0.000434</td>\n",
       "      <td>-1.300751</td>\n",
       "      <td>-0.032577</td>\n",
       "      <td>0.601557</td>\n",
       "      <td>0.205064</td>\n",
       "      <td>0.039233</td>\n",
       "      <td>25.65</td>\n",
       "      <td>0</td>\n",
       "    </tr>\n",
       "    <tr>\n",
       "      <th>91182</th>\n",
       "      <td>63347.0</td>\n",
       "      <td>-0.922913</td>\n",
       "      <td>0.966578</td>\n",
       "      <td>0.982686</td>\n",
       "      <td>0.214601</td>\n",
       "      <td>-1.404790</td>\n",
       "      <td>-0.681641</td>\n",
       "      <td>-0.602287</td>\n",
       "      <td>0.921852</td>\n",
       "      <td>0.006443</td>\n",
       "      <td>...</td>\n",
       "      <td>0.180378</td>\n",
       "      <td>0.148734</td>\n",
       "      <td>0.215783</td>\n",
       "      <td>0.351933</td>\n",
       "      <td>-0.627017</td>\n",
       "      <td>0.176240</td>\n",
       "      <td>-0.312706</td>\n",
       "      <td>-0.119012</td>\n",
       "      <td>32.50</td>\n",
       "      <td>0</td>\n",
       "    </tr>\n",
       "    <tr>\n",
       "      <th>258089</th>\n",
       "      <td>158487.0</td>\n",
       "      <td>2.129891</td>\n",
       "      <td>0.002894</td>\n",
       "      <td>-1.479417</td>\n",
       "      <td>0.150307</td>\n",
       "      <td>0.506737</td>\n",
       "      <td>-0.500767</td>\n",
       "      <td>0.228074</td>\n",
       "      <td>-0.310053</td>\n",
       "      <td>0.429958</td>\n",
       "      <td>...</td>\n",
       "      <td>-0.339042</td>\n",
       "      <td>-0.769613</td>\n",
       "      <td>0.203715</td>\n",
       "      <td>-1.030338</td>\n",
       "      <td>-0.132534</td>\n",
       "      <td>0.262142</td>\n",
       "      <td>-0.060905</td>\n",
       "      <td>-0.068704</td>\n",
       "      <td>0.89</td>\n",
       "      <td>0</td>\n",
       "    </tr>\n",
       "  </tbody>\n",
       "</table>\n",
       "<p>5 rows × 31 columns</p>\n",
       "</div>"
      ],
      "text/plain": [
       "            Time        V1        V2        V3        V4        V5        V6  \\\n",
       "24744    33362.0  1.121491 -0.946323  0.437724 -0.748922 -1.111741 -0.403156   \n",
       "32572    36855.0  0.258710 -1.315833  0.404775  1.118264 -0.283324  1.881561   \n",
       "21179    31521.0 -3.656307  2.143605 -0.619436 -0.751792 -1.130467  1.631354   \n",
       "91182    63347.0 -0.922913  0.966578  0.982686  0.214601 -1.404790 -0.681641   \n",
       "258089  158487.0  2.129891  0.002894 -1.479417  0.150307  0.506737 -0.500767   \n",
       "\n",
       "              V7        V8        V9  ...       V21       V22       V23  \\\n",
       "24744  -0.582528 -0.042594 -0.979918  ...  0.104703 -0.131058 -0.074003   \n",
       "32572  -0.298830  0.624569  0.148387  ...  0.562493  0.948261 -0.304393   \n",
       "21179  -1.776657  2.997719 -0.077941  ...  0.368690  0.967756  0.000434   \n",
       "91182  -0.602287  0.921852  0.006443  ...  0.180378  0.148734  0.215783   \n",
       "258089  0.228074 -0.310053  0.429958  ... -0.339042 -0.769613  0.203715   \n",
       "\n",
       "             V24       V25       V26       V27       V28  Amount  Class  \n",
       "24744  -0.003195  0.217446 -0.422956 -0.009860  0.034590  142.46      0  \n",
       "32572  -1.002235  0.041717 -0.186385  0.044572  0.070705  374.00      0  \n",
       "21179  -1.300751 -0.032577  0.601557  0.205064  0.039233   25.65      0  \n",
       "91182   0.351933 -0.627017  0.176240 -0.312706 -0.119012   32.50      0  \n",
       "258089 -1.030338 -0.132534  0.262142 -0.060905 -0.068704    0.89      0  \n",
       "\n",
       "[5 rows x 31 columns]"
      ]
     },
     "execution_count": 11,
     "metadata": {},
     "output_type": "execute_result"
    }
   ],
   "source": [
    "#Build a sample dataset containig similardistribution\n",
    "normal_sample = normal.sample(n=492)\n",
    "df1 = pd.concat([normal_sample,fraud], axis=0)\n",
    "df1.head()"
   ]
  },
  {
   "cell_type": "code",
   "execution_count": 12,
   "id": "077457e4",
   "metadata": {
    "execution": {
     "iopub.execute_input": "2024-01-14T16:10:41.106504Z",
     "iopub.status.busy": "2024-01-14T16:10:41.105725Z",
     "iopub.status.idle": "2024-01-14T16:10:41.132718Z",
     "shell.execute_reply": "2024-01-14T16:10:41.131582Z"
    },
    "papermill": {
     "duration": 0.045317,
     "end_time": "2024-01-14T16:10:41.135290",
     "exception": false,
     "start_time": "2024-01-14T16:10:41.089973",
     "status": "completed"
    },
    "tags": []
   },
   "outputs": [
    {
     "data": {
      "text/html": [
       "<div>\n",
       "<style scoped>\n",
       "    .dataframe tbody tr th:only-of-type {\n",
       "        vertical-align: middle;\n",
       "    }\n",
       "\n",
       "    .dataframe tbody tr th {\n",
       "        vertical-align: top;\n",
       "    }\n",
       "\n",
       "    .dataframe thead th {\n",
       "        text-align: right;\n",
       "    }\n",
       "</style>\n",
       "<table border=\"1\" class=\"dataframe\">\n",
       "  <thead>\n",
       "    <tr style=\"text-align: right;\">\n",
       "      <th></th>\n",
       "      <th>Time</th>\n",
       "      <th>V1</th>\n",
       "      <th>V2</th>\n",
       "      <th>V3</th>\n",
       "      <th>V4</th>\n",
       "      <th>V5</th>\n",
       "      <th>V6</th>\n",
       "      <th>V7</th>\n",
       "      <th>V8</th>\n",
       "      <th>V9</th>\n",
       "      <th>...</th>\n",
       "      <th>V21</th>\n",
       "      <th>V22</th>\n",
       "      <th>V23</th>\n",
       "      <th>V24</th>\n",
       "      <th>V25</th>\n",
       "      <th>V26</th>\n",
       "      <th>V27</th>\n",
       "      <th>V28</th>\n",
       "      <th>Amount</th>\n",
       "      <th>Class</th>\n",
       "    </tr>\n",
       "  </thead>\n",
       "  <tbody>\n",
       "    <tr>\n",
       "      <th>279863</th>\n",
       "      <td>169142.0</td>\n",
       "      <td>-1.927883</td>\n",
       "      <td>1.125653</td>\n",
       "      <td>-4.518331</td>\n",
       "      <td>1.749293</td>\n",
       "      <td>-1.566487</td>\n",
       "      <td>-2.010494</td>\n",
       "      <td>-0.882850</td>\n",
       "      <td>0.697211</td>\n",
       "      <td>-2.064945</td>\n",
       "      <td>...</td>\n",
       "      <td>0.778584</td>\n",
       "      <td>-0.319189</td>\n",
       "      <td>0.639419</td>\n",
       "      <td>-0.294885</td>\n",
       "      <td>0.537503</td>\n",
       "      <td>0.788395</td>\n",
       "      <td>0.292680</td>\n",
       "      <td>0.147968</td>\n",
       "      <td>390.00</td>\n",
       "      <td>1</td>\n",
       "    </tr>\n",
       "    <tr>\n",
       "      <th>280143</th>\n",
       "      <td>169347.0</td>\n",
       "      <td>1.378559</td>\n",
       "      <td>1.289381</td>\n",
       "      <td>-5.004247</td>\n",
       "      <td>1.411850</td>\n",
       "      <td>0.442581</td>\n",
       "      <td>-1.326536</td>\n",
       "      <td>-1.413170</td>\n",
       "      <td>0.248525</td>\n",
       "      <td>-1.127396</td>\n",
       "      <td>...</td>\n",
       "      <td>0.370612</td>\n",
       "      <td>0.028234</td>\n",
       "      <td>-0.145640</td>\n",
       "      <td>-0.081049</td>\n",
       "      <td>0.521875</td>\n",
       "      <td>0.739467</td>\n",
       "      <td>0.389152</td>\n",
       "      <td>0.186637</td>\n",
       "      <td>0.76</td>\n",
       "      <td>1</td>\n",
       "    </tr>\n",
       "    <tr>\n",
       "      <th>280149</th>\n",
       "      <td>169351.0</td>\n",
       "      <td>-0.676143</td>\n",
       "      <td>1.126366</td>\n",
       "      <td>-2.213700</td>\n",
       "      <td>0.468308</td>\n",
       "      <td>-1.120541</td>\n",
       "      <td>-0.003346</td>\n",
       "      <td>-2.234739</td>\n",
       "      <td>1.210158</td>\n",
       "      <td>-0.652250</td>\n",
       "      <td>...</td>\n",
       "      <td>0.751826</td>\n",
       "      <td>0.834108</td>\n",
       "      <td>0.190944</td>\n",
       "      <td>0.032070</td>\n",
       "      <td>-0.739695</td>\n",
       "      <td>0.471111</td>\n",
       "      <td>0.385107</td>\n",
       "      <td>0.194361</td>\n",
       "      <td>77.89</td>\n",
       "      <td>1</td>\n",
       "    </tr>\n",
       "    <tr>\n",
       "      <th>281144</th>\n",
       "      <td>169966.0</td>\n",
       "      <td>-3.113832</td>\n",
       "      <td>0.585864</td>\n",
       "      <td>-5.399730</td>\n",
       "      <td>1.817092</td>\n",
       "      <td>-0.840618</td>\n",
       "      <td>-2.943548</td>\n",
       "      <td>-2.208002</td>\n",
       "      <td>1.058733</td>\n",
       "      <td>-1.632333</td>\n",
       "      <td>...</td>\n",
       "      <td>0.583276</td>\n",
       "      <td>-0.269209</td>\n",
       "      <td>-0.456108</td>\n",
       "      <td>-0.183659</td>\n",
       "      <td>-0.328168</td>\n",
       "      <td>0.606116</td>\n",
       "      <td>0.884876</td>\n",
       "      <td>-0.253700</td>\n",
       "      <td>245.00</td>\n",
       "      <td>1</td>\n",
       "    </tr>\n",
       "    <tr>\n",
       "      <th>281674</th>\n",
       "      <td>170348.0</td>\n",
       "      <td>1.991976</td>\n",
       "      <td>0.158476</td>\n",
       "      <td>-2.583441</td>\n",
       "      <td>0.408670</td>\n",
       "      <td>1.151147</td>\n",
       "      <td>-0.096695</td>\n",
       "      <td>0.223050</td>\n",
       "      <td>-0.068384</td>\n",
       "      <td>0.577829</td>\n",
       "      <td>...</td>\n",
       "      <td>-0.164350</td>\n",
       "      <td>-0.295135</td>\n",
       "      <td>-0.072173</td>\n",
       "      <td>-0.450261</td>\n",
       "      <td>0.313267</td>\n",
       "      <td>-0.289617</td>\n",
       "      <td>0.002988</td>\n",
       "      <td>-0.015309</td>\n",
       "      <td>42.53</td>\n",
       "      <td>1</td>\n",
       "    </tr>\n",
       "  </tbody>\n",
       "</table>\n",
       "<p>5 rows × 31 columns</p>\n",
       "</div>"
      ],
      "text/plain": [
       "            Time        V1        V2        V3        V4        V5        V6  \\\n",
       "279863  169142.0 -1.927883  1.125653 -4.518331  1.749293 -1.566487 -2.010494   \n",
       "280143  169347.0  1.378559  1.289381 -5.004247  1.411850  0.442581 -1.326536   \n",
       "280149  169351.0 -0.676143  1.126366 -2.213700  0.468308 -1.120541 -0.003346   \n",
       "281144  169966.0 -3.113832  0.585864 -5.399730  1.817092 -0.840618 -2.943548   \n",
       "281674  170348.0  1.991976  0.158476 -2.583441  0.408670  1.151147 -0.096695   \n",
       "\n",
       "              V7        V8        V9  ...       V21       V22       V23  \\\n",
       "279863 -0.882850  0.697211 -2.064945  ...  0.778584 -0.319189  0.639419   \n",
       "280143 -1.413170  0.248525 -1.127396  ...  0.370612  0.028234 -0.145640   \n",
       "280149 -2.234739  1.210158 -0.652250  ...  0.751826  0.834108  0.190944   \n",
       "281144 -2.208002  1.058733 -1.632333  ...  0.583276 -0.269209 -0.456108   \n",
       "281674  0.223050 -0.068384  0.577829  ... -0.164350 -0.295135 -0.072173   \n",
       "\n",
       "             V24       V25       V26       V27       V28  Amount  Class  \n",
       "279863 -0.294885  0.537503  0.788395  0.292680  0.147968  390.00      1  \n",
       "280143 -0.081049  0.521875  0.739467  0.389152  0.186637    0.76      1  \n",
       "280149  0.032070 -0.739695  0.471111  0.385107  0.194361   77.89      1  \n",
       "281144 -0.183659 -0.328168  0.606116  0.884876 -0.253700  245.00      1  \n",
       "281674 -0.450261  0.313267 -0.289617  0.002988 -0.015309   42.53      1  \n",
       "\n",
       "[5 rows x 31 columns]"
      ]
     },
     "execution_count": 12,
     "metadata": {},
     "output_type": "execute_result"
    }
   ],
   "source": [
    "df1.tail()"
   ]
  },
  {
   "cell_type": "code",
   "execution_count": 13,
   "id": "1961e543",
   "metadata": {
    "execution": {
     "iopub.execute_input": "2024-01-14T16:10:41.166798Z",
     "iopub.status.busy": "2024-01-14T16:10:41.166359Z",
     "iopub.status.idle": "2024-01-14T16:10:41.175275Z",
     "shell.execute_reply": "2024-01-14T16:10:41.174083Z"
    },
    "papermill": {
     "duration": 0.027844,
     "end_time": "2024-01-14T16:10:41.177731",
     "exception": false,
     "start_time": "2024-01-14T16:10:41.149887",
     "status": "completed"
    },
    "tags": []
   },
   "outputs": [
    {
     "data": {
      "text/plain": [
       "Class\n",
       "0    492\n",
       "1    492\n",
       "Name: count, dtype: int64"
      ]
     },
     "execution_count": 13,
     "metadata": {},
     "output_type": "execute_result"
    }
   ],
   "source": [
    "df1['Class'].value_counts()"
   ]
  },
  {
   "cell_type": "code",
   "execution_count": 14,
   "id": "ecb90c59",
   "metadata": {
    "execution": {
     "iopub.execute_input": "2024-01-14T16:10:41.209752Z",
     "iopub.status.busy": "2024-01-14T16:10:41.209342Z",
     "iopub.status.idle": "2024-01-14T16:10:41.218512Z",
     "shell.execute_reply": "2024-01-14T16:10:41.216901Z"
    },
    "papermill": {
     "duration": 0.028906,
     "end_time": "2024-01-14T16:10:41.221714",
     "exception": false,
     "start_time": "2024-01-14T16:10:41.192808",
     "status": "completed"
    },
    "tags": []
   },
   "outputs": [
    {
     "data": {
      "text/plain": [
       "(984, 31)"
      ]
     },
     "execution_count": 14,
     "metadata": {},
     "output_type": "execute_result"
    }
   ],
   "source": [
    "df1.shape"
   ]
  },
  {
   "cell_type": "code",
   "execution_count": 15,
   "id": "d35dda00",
   "metadata": {
    "execution": {
     "iopub.execute_input": "2024-01-14T16:10:41.254178Z",
     "iopub.status.busy": "2024-01-14T16:10:41.253678Z",
     "iopub.status.idle": "2024-01-14T16:10:41.283215Z",
     "shell.execute_reply": "2024-01-14T16:10:41.281703Z"
    },
    "papermill": {
     "duration": 0.049147,
     "end_time": "2024-01-14T16:10:41.285988",
     "exception": false,
     "start_time": "2024-01-14T16:10:41.236841",
     "status": "completed"
    },
    "tags": []
   },
   "outputs": [
    {
     "data": {
      "text/html": [
       "<div>\n",
       "<style scoped>\n",
       "    .dataframe tbody tr th:only-of-type {\n",
       "        vertical-align: middle;\n",
       "    }\n",
       "\n",
       "    .dataframe tbody tr th {\n",
       "        vertical-align: top;\n",
       "    }\n",
       "\n",
       "    .dataframe thead th {\n",
       "        text-align: right;\n",
       "    }\n",
       "</style>\n",
       "<table border=\"1\" class=\"dataframe\">\n",
       "  <thead>\n",
       "    <tr style=\"text-align: right;\">\n",
       "      <th></th>\n",
       "      <th>Time</th>\n",
       "      <th>V1</th>\n",
       "      <th>V2</th>\n",
       "      <th>V3</th>\n",
       "      <th>V4</th>\n",
       "      <th>V5</th>\n",
       "      <th>V6</th>\n",
       "      <th>V7</th>\n",
       "      <th>V8</th>\n",
       "      <th>V9</th>\n",
       "      <th>...</th>\n",
       "      <th>V20</th>\n",
       "      <th>V21</th>\n",
       "      <th>V22</th>\n",
       "      <th>V23</th>\n",
       "      <th>V24</th>\n",
       "      <th>V25</th>\n",
       "      <th>V26</th>\n",
       "      <th>V27</th>\n",
       "      <th>V28</th>\n",
       "      <th>Amount</th>\n",
       "    </tr>\n",
       "    <tr>\n",
       "      <th>Class</th>\n",
       "      <th></th>\n",
       "      <th></th>\n",
       "      <th></th>\n",
       "      <th></th>\n",
       "      <th></th>\n",
       "      <th></th>\n",
       "      <th></th>\n",
       "      <th></th>\n",
       "      <th></th>\n",
       "      <th></th>\n",
       "      <th></th>\n",
       "      <th></th>\n",
       "      <th></th>\n",
       "      <th></th>\n",
       "      <th></th>\n",
       "      <th></th>\n",
       "      <th></th>\n",
       "      <th></th>\n",
       "      <th></th>\n",
       "      <th></th>\n",
       "      <th></th>\n",
       "    </tr>\n",
       "  </thead>\n",
       "  <tbody>\n",
       "    <tr>\n",
       "      <th>0</th>\n",
       "      <td>94029.930894</td>\n",
       "      <td>0.000717</td>\n",
       "      <td>-0.009085</td>\n",
       "      <td>0.058377</td>\n",
       "      <td>0.049149</td>\n",
       "      <td>-0.142770</td>\n",
       "      <td>-0.039349</td>\n",
       "      <td>0.003213</td>\n",
       "      <td>0.061768</td>\n",
       "      <td>0.009466</td>\n",
       "      <td>...</td>\n",
       "      <td>-0.017498</td>\n",
       "      <td>0.057602</td>\n",
       "      <td>-0.010124</td>\n",
       "      <td>0.003599</td>\n",
       "      <td>0.020315</td>\n",
       "      <td>-0.064590</td>\n",
       "      <td>0.037661</td>\n",
       "      <td>-0.008246</td>\n",
       "      <td>0.002120</td>\n",
       "      <td>95.791585</td>\n",
       "    </tr>\n",
       "    <tr>\n",
       "      <th>1</th>\n",
       "      <td>80746.806911</td>\n",
       "      <td>-4.771948</td>\n",
       "      <td>3.623778</td>\n",
       "      <td>-7.033281</td>\n",
       "      <td>4.542029</td>\n",
       "      <td>-3.151225</td>\n",
       "      <td>-1.397737</td>\n",
       "      <td>-5.568731</td>\n",
       "      <td>0.570636</td>\n",
       "      <td>-2.581123</td>\n",
       "      <td>...</td>\n",
       "      <td>0.372319</td>\n",
       "      <td>0.713588</td>\n",
       "      <td>0.014049</td>\n",
       "      <td>-0.040308</td>\n",
       "      <td>-0.105130</td>\n",
       "      <td>0.041449</td>\n",
       "      <td>0.051648</td>\n",
       "      <td>0.170575</td>\n",
       "      <td>0.075667</td>\n",
       "      <td>122.211321</td>\n",
       "    </tr>\n",
       "  </tbody>\n",
       "</table>\n",
       "<p>2 rows × 30 columns</p>\n",
       "</div>"
      ],
      "text/plain": [
       "               Time        V1        V2        V3        V4        V5  \\\n",
       "Class                                                                   \n",
       "0      94029.930894  0.000717 -0.009085  0.058377  0.049149 -0.142770   \n",
       "1      80746.806911 -4.771948  3.623778 -7.033281  4.542029 -3.151225   \n",
       "\n",
       "             V6        V7        V8        V9  ...       V20       V21  \\\n",
       "Class                                          ...                       \n",
       "0     -0.039349  0.003213  0.061768  0.009466  ... -0.017498  0.057602   \n",
       "1     -1.397737 -5.568731  0.570636 -2.581123  ...  0.372319  0.713588   \n",
       "\n",
       "            V22       V23       V24       V25       V26       V27       V28  \\\n",
       "Class                                                                         \n",
       "0     -0.010124  0.003599  0.020315 -0.064590  0.037661 -0.008246  0.002120   \n",
       "1      0.014049 -0.040308 -0.105130  0.041449  0.051648  0.170575  0.075667   \n",
       "\n",
       "           Amount  \n",
       "Class              \n",
       "0       95.791585  \n",
       "1      122.211321  \n",
       "\n",
       "[2 rows x 30 columns]"
      ]
     },
     "execution_count": 15,
     "metadata": {},
     "output_type": "execute_result"
    }
   ],
   "source": [
    "df1.groupby('Class').mean()"
   ]
  },
  {
   "cell_type": "markdown",
   "id": "8b632ece",
   "metadata": {
    "papermill": {
     "duration": 0.015242,
     "end_time": "2024-01-14T16:10:41.316595",
     "exception": false,
     "start_time": "2024-01-14T16:10:41.301353",
     "status": "completed"
    },
    "tags": []
   },
   "source": [
    "# Model"
   ]
  },
  {
   "cell_type": "code",
   "execution_count": 16,
   "id": "50e3ab38",
   "metadata": {
    "execution": {
     "iopub.execute_input": "2024-01-14T16:10:41.350238Z",
     "iopub.status.busy": "2024-01-14T16:10:41.349730Z",
     "iopub.status.idle": "2024-01-14T16:10:41.360712Z",
     "shell.execute_reply": "2024-01-14T16:10:41.359749Z"
    },
    "papermill": {
     "duration": 0.031023,
     "end_time": "2024-01-14T16:10:41.363304",
     "exception": false,
     "start_time": "2024-01-14T16:10:41.332281",
     "status": "completed"
    },
    "tags": []
   },
   "outputs": [],
   "source": [
    "X=df1.drop('Class',axis=1)\n",
    "Y=df1['Class']\n",
    "\n",
    "X_train, X_test, Y_train, Y_test = train_test_split(X, Y, test_size=0.2, stratify=Y, random_state=2)"
   ]
  },
  {
   "cell_type": "code",
   "execution_count": 17,
   "id": "939d5562",
   "metadata": {
    "execution": {
     "iopub.execute_input": "2024-01-14T16:10:41.396642Z",
     "iopub.status.busy": "2024-01-14T16:10:41.396218Z",
     "iopub.status.idle": "2024-01-14T16:10:41.402511Z",
     "shell.execute_reply": "2024-01-14T16:10:41.401210Z"
    },
    "papermill": {
     "duration": 0.026113,
     "end_time": "2024-01-14T16:10:41.405164",
     "exception": false,
     "start_time": "2024-01-14T16:10:41.379051",
     "status": "completed"
    },
    "tags": []
   },
   "outputs": [
    {
     "name": "stdout",
     "output_type": "stream",
     "text": [
      "(984, 30) (787, 30) (197, 30)\n"
     ]
    }
   ],
   "source": [
    "print(X.shape, X_train.shape, X_test.shape)"
   ]
  },
  {
   "cell_type": "markdown",
   "id": "a1c761a6",
   "metadata": {
    "papermill": {
     "duration": 0.015505,
     "end_time": "2024-01-14T16:10:41.436674",
     "exception": false,
     "start_time": "2024-01-14T16:10:41.421169",
     "status": "completed"
    },
    "tags": []
   },
   "source": [
    "# Logistic Rrgression"
   ]
  },
  {
   "cell_type": "code",
   "execution_count": 18,
   "id": "54bc111f",
   "metadata": {
    "execution": {
     "iopub.execute_input": "2024-01-14T16:10:41.470057Z",
     "iopub.status.busy": "2024-01-14T16:10:41.469647Z",
     "iopub.status.idle": "2024-01-14T16:10:41.550345Z",
     "shell.execute_reply": "2024-01-14T16:10:41.548702Z"
    },
    "papermill": {
     "duration": 0.103642,
     "end_time": "2024-01-14T16:10:41.555854",
     "exception": false,
     "start_time": "2024-01-14T16:10:41.452212",
     "status": "completed"
    },
    "tags": []
   },
   "outputs": [
    {
     "name": "stderr",
     "output_type": "stream",
     "text": [
      "/opt/conda/lib/python3.10/site-packages/sklearn/linear_model/_logistic.py:458: ConvergenceWarning: lbfgs failed to converge (status=1):\n",
      "STOP: TOTAL NO. of ITERATIONS REACHED LIMIT.\n",
      "\n",
      "Increase the number of iterations (max_iter) or scale the data as shown in:\n",
      "    https://scikit-learn.org/stable/modules/preprocessing.html\n",
      "Please also refer to the documentation for alternative solver options:\n",
      "    https://scikit-learn.org/stable/modules/linear_model.html#logistic-regression\n",
      "  n_iter_i = _check_optimize_result(\n"
     ]
    },
    {
     "data": {
      "text/html": [
       "<style>#sk-container-id-1 {color: black;background-color: white;}#sk-container-id-1 pre{padding: 0;}#sk-container-id-1 div.sk-toggleable {background-color: white;}#sk-container-id-1 label.sk-toggleable__label {cursor: pointer;display: block;width: 100%;margin-bottom: 0;padding: 0.3em;box-sizing: border-box;text-align: center;}#sk-container-id-1 label.sk-toggleable__label-arrow:before {content: \"▸\";float: left;margin-right: 0.25em;color: #696969;}#sk-container-id-1 label.sk-toggleable__label-arrow:hover:before {color: black;}#sk-container-id-1 div.sk-estimator:hover label.sk-toggleable__label-arrow:before {color: black;}#sk-container-id-1 div.sk-toggleable__content {max-height: 0;max-width: 0;overflow: hidden;text-align: left;background-color: #f0f8ff;}#sk-container-id-1 div.sk-toggleable__content pre {margin: 0.2em;color: black;border-radius: 0.25em;background-color: #f0f8ff;}#sk-container-id-1 input.sk-toggleable__control:checked~div.sk-toggleable__content {max-height: 200px;max-width: 100%;overflow: auto;}#sk-container-id-1 input.sk-toggleable__control:checked~label.sk-toggleable__label-arrow:before {content: \"▾\";}#sk-container-id-1 div.sk-estimator input.sk-toggleable__control:checked~label.sk-toggleable__label {background-color: #d4ebff;}#sk-container-id-1 div.sk-label input.sk-toggleable__control:checked~label.sk-toggleable__label {background-color: #d4ebff;}#sk-container-id-1 input.sk-hidden--visually {border: 0;clip: rect(1px 1px 1px 1px);clip: rect(1px, 1px, 1px, 1px);height: 1px;margin: -1px;overflow: hidden;padding: 0;position: absolute;width: 1px;}#sk-container-id-1 div.sk-estimator {font-family: monospace;background-color: #f0f8ff;border: 1px dotted black;border-radius: 0.25em;box-sizing: border-box;margin-bottom: 0.5em;}#sk-container-id-1 div.sk-estimator:hover {background-color: #d4ebff;}#sk-container-id-1 div.sk-parallel-item::after {content: \"\";width: 100%;border-bottom: 1px solid gray;flex-grow: 1;}#sk-container-id-1 div.sk-label:hover label.sk-toggleable__label {background-color: #d4ebff;}#sk-container-id-1 div.sk-serial::before {content: \"\";position: absolute;border-left: 1px solid gray;box-sizing: border-box;top: 0;bottom: 0;left: 50%;z-index: 0;}#sk-container-id-1 div.sk-serial {display: flex;flex-direction: column;align-items: center;background-color: white;padding-right: 0.2em;padding-left: 0.2em;position: relative;}#sk-container-id-1 div.sk-item {position: relative;z-index: 1;}#sk-container-id-1 div.sk-parallel {display: flex;align-items: stretch;justify-content: center;background-color: white;position: relative;}#sk-container-id-1 div.sk-item::before, #sk-container-id-1 div.sk-parallel-item::before {content: \"\";position: absolute;border-left: 1px solid gray;box-sizing: border-box;top: 0;bottom: 0;left: 50%;z-index: -1;}#sk-container-id-1 div.sk-parallel-item {display: flex;flex-direction: column;z-index: 1;position: relative;background-color: white;}#sk-container-id-1 div.sk-parallel-item:first-child::after {align-self: flex-end;width: 50%;}#sk-container-id-1 div.sk-parallel-item:last-child::after {align-self: flex-start;width: 50%;}#sk-container-id-1 div.sk-parallel-item:only-child::after {width: 0;}#sk-container-id-1 div.sk-dashed-wrapped {border: 1px dashed gray;margin: 0 0.4em 0.5em 0.4em;box-sizing: border-box;padding-bottom: 0.4em;background-color: white;}#sk-container-id-1 div.sk-label label {font-family: monospace;font-weight: bold;display: inline-block;line-height: 1.2em;}#sk-container-id-1 div.sk-label-container {text-align: center;}#sk-container-id-1 div.sk-container {/* jupyter's `normalize.less` sets `[hidden] { display: none; }` but bootstrap.min.css set `[hidden] { display: none !important; }` so we also need the `!important` here to be able to override the default hidden behavior on the sphinx rendered scikit-learn.org. See: https://github.com/scikit-learn/scikit-learn/issues/21755 */display: inline-block !important;position: relative;}#sk-container-id-1 div.sk-text-repr-fallback {display: none;}</style><div id=\"sk-container-id-1\" class=\"sk-top-container\"><div class=\"sk-text-repr-fallback\"><pre>LogisticRegression()</pre><b>In a Jupyter environment, please rerun this cell to show the HTML representation or trust the notebook. <br />On GitHub, the HTML representation is unable to render, please try loading this page with nbviewer.org.</b></div><div class=\"sk-container\" hidden><div class=\"sk-item\"><div class=\"sk-estimator sk-toggleable\"><input class=\"sk-toggleable__control sk-hidden--visually\" id=\"sk-estimator-id-1\" type=\"checkbox\" checked><label for=\"sk-estimator-id-1\" class=\"sk-toggleable__label sk-toggleable__label-arrow\">LogisticRegression</label><div class=\"sk-toggleable__content\"><pre>LogisticRegression()</pre></div></div></div></div></div>"
      ],
      "text/plain": [
       "LogisticRegression()"
      ]
     },
     "execution_count": 18,
     "metadata": {},
     "output_type": "execute_result"
    }
   ],
   "source": [
    "model = LogisticRegression()\n",
    "model.fit(X_train, Y_train)"
   ]
  },
  {
   "cell_type": "code",
   "execution_count": 19,
   "id": "9103d279",
   "metadata": {
    "execution": {
     "iopub.execute_input": "2024-01-14T16:10:41.626450Z",
     "iopub.status.busy": "2024-01-14T16:10:41.624844Z",
     "iopub.status.idle": "2024-01-14T16:10:41.648137Z",
     "shell.execute_reply": "2024-01-14T16:10:41.646426Z"
    },
    "papermill": {
     "duration": 0.064431,
     "end_time": "2024-01-14T16:10:41.653636",
     "exception": false,
     "start_time": "2024-01-14T16:10:41.589205",
     "status": "completed"
    },
    "tags": []
   },
   "outputs": [
    {
     "name": "stdout",
     "output_type": "stream",
     "text": [
      "X_train_prediction:  0.9479034307496823\n"
     ]
    }
   ],
   "source": [
    "# For Training data \n",
    "X_train_prediction = model.predict(X_train)\n",
    "train_accuracy=accuracy_score(X_train_prediction,Y_train)\n",
    "print('X_train_prediction: ', train_accuracy)"
   ]
  },
  {
   "cell_type": "code",
   "execution_count": 20,
   "id": "8379e0ee",
   "metadata": {
    "execution": {
     "iopub.execute_input": "2024-01-14T16:10:41.725498Z",
     "iopub.status.busy": "2024-01-14T16:10:41.724688Z",
     "iopub.status.idle": "2024-01-14T16:10:41.750666Z",
     "shell.execute_reply": "2024-01-14T16:10:41.748871Z"
    },
    "papermill": {
     "duration": 0.0674,
     "end_time": "2024-01-14T16:10:41.756151",
     "exception": false,
     "start_time": "2024-01-14T16:10:41.688751",
     "status": "completed"
    },
    "tags": []
   },
   "outputs": [
    {
     "name": "stdout",
     "output_type": "stream",
     "text": [
      "X_test_prediction:  0.9086294416243654\n"
     ]
    }
   ],
   "source": [
    "#For Test data\n",
    "X_test_prediction = model.predict(X_test)\n",
    "test_accuracy = accuracy_score(X_test_prediction, Y_test)\n",
    "print('X_test_prediction: ',test_accuracy)\n",
    "\n",
    "#both are similar so good"
   ]
  },
  {
   "cell_type": "markdown",
   "id": "a3bbd5ad",
   "metadata": {
    "papermill": {
     "duration": 0.015801,
     "end_time": "2024-01-14T16:10:41.788968",
     "exception": false,
     "start_time": "2024-01-14T16:10:41.773167",
     "status": "completed"
    },
    "tags": []
   },
   "source": [
    "# RandomForestClassifier"
   ]
  },
  {
   "cell_type": "code",
   "execution_count": 21,
   "id": "1e327b9b",
   "metadata": {
    "execution": {
     "iopub.execute_input": "2024-01-14T16:10:41.919842Z",
     "iopub.status.busy": "2024-01-14T16:10:41.919338Z",
     "iopub.status.idle": "2024-01-14T16:10:42.121535Z",
     "shell.execute_reply": "2024-01-14T16:10:42.119990Z"
    },
    "papermill": {
     "duration": 0.223578,
     "end_time": "2024-01-14T16:10:42.124945",
     "exception": false,
     "start_time": "2024-01-14T16:10:41.901367",
     "status": "completed"
    },
    "tags": []
   },
   "outputs": [],
   "source": [
    "from sklearn.ensemble import RandomForestClassifier\n",
    "from sklearn.preprocessing import StandardScaler"
   ]
  },
  {
   "cell_type": "code",
   "execution_count": 22,
   "id": "382abe61",
   "metadata": {
    "execution": {
     "iopub.execute_input": "2024-01-14T16:10:42.160927Z",
     "iopub.status.busy": "2024-01-14T16:10:42.159991Z",
     "iopub.status.idle": "2024-01-14T16:10:42.629841Z",
     "shell.execute_reply": "2024-01-14T16:10:42.628801Z"
    },
    "papermill": {
     "duration": 0.490487,
     "end_time": "2024-01-14T16:10:42.632153",
     "exception": false,
     "start_time": "2024-01-14T16:10:42.141666",
     "status": "completed"
    },
    "tags": []
   },
   "outputs": [
    {
     "data": {
      "text/html": [
       "<style>#sk-container-id-2 {color: black;background-color: white;}#sk-container-id-2 pre{padding: 0;}#sk-container-id-2 div.sk-toggleable {background-color: white;}#sk-container-id-2 label.sk-toggleable__label {cursor: pointer;display: block;width: 100%;margin-bottom: 0;padding: 0.3em;box-sizing: border-box;text-align: center;}#sk-container-id-2 label.sk-toggleable__label-arrow:before {content: \"▸\";float: left;margin-right: 0.25em;color: #696969;}#sk-container-id-2 label.sk-toggleable__label-arrow:hover:before {color: black;}#sk-container-id-2 div.sk-estimator:hover label.sk-toggleable__label-arrow:before {color: black;}#sk-container-id-2 div.sk-toggleable__content {max-height: 0;max-width: 0;overflow: hidden;text-align: left;background-color: #f0f8ff;}#sk-container-id-2 div.sk-toggleable__content pre {margin: 0.2em;color: black;border-radius: 0.25em;background-color: #f0f8ff;}#sk-container-id-2 input.sk-toggleable__control:checked~div.sk-toggleable__content {max-height: 200px;max-width: 100%;overflow: auto;}#sk-container-id-2 input.sk-toggleable__control:checked~label.sk-toggleable__label-arrow:before {content: \"▾\";}#sk-container-id-2 div.sk-estimator input.sk-toggleable__control:checked~label.sk-toggleable__label {background-color: #d4ebff;}#sk-container-id-2 div.sk-label input.sk-toggleable__control:checked~label.sk-toggleable__label {background-color: #d4ebff;}#sk-container-id-2 input.sk-hidden--visually {border: 0;clip: rect(1px 1px 1px 1px);clip: rect(1px, 1px, 1px, 1px);height: 1px;margin: -1px;overflow: hidden;padding: 0;position: absolute;width: 1px;}#sk-container-id-2 div.sk-estimator {font-family: monospace;background-color: #f0f8ff;border: 1px dotted black;border-radius: 0.25em;box-sizing: border-box;margin-bottom: 0.5em;}#sk-container-id-2 div.sk-estimator:hover {background-color: #d4ebff;}#sk-container-id-2 div.sk-parallel-item::after {content: \"\";width: 100%;border-bottom: 1px solid gray;flex-grow: 1;}#sk-container-id-2 div.sk-label:hover label.sk-toggleable__label {background-color: #d4ebff;}#sk-container-id-2 div.sk-serial::before {content: \"\";position: absolute;border-left: 1px solid gray;box-sizing: border-box;top: 0;bottom: 0;left: 50%;z-index: 0;}#sk-container-id-2 div.sk-serial {display: flex;flex-direction: column;align-items: center;background-color: white;padding-right: 0.2em;padding-left: 0.2em;position: relative;}#sk-container-id-2 div.sk-item {position: relative;z-index: 1;}#sk-container-id-2 div.sk-parallel {display: flex;align-items: stretch;justify-content: center;background-color: white;position: relative;}#sk-container-id-2 div.sk-item::before, #sk-container-id-2 div.sk-parallel-item::before {content: \"\";position: absolute;border-left: 1px solid gray;box-sizing: border-box;top: 0;bottom: 0;left: 50%;z-index: -1;}#sk-container-id-2 div.sk-parallel-item {display: flex;flex-direction: column;z-index: 1;position: relative;background-color: white;}#sk-container-id-2 div.sk-parallel-item:first-child::after {align-self: flex-end;width: 50%;}#sk-container-id-2 div.sk-parallel-item:last-child::after {align-self: flex-start;width: 50%;}#sk-container-id-2 div.sk-parallel-item:only-child::after {width: 0;}#sk-container-id-2 div.sk-dashed-wrapped {border: 1px dashed gray;margin: 0 0.4em 0.5em 0.4em;box-sizing: border-box;padding-bottom: 0.4em;background-color: white;}#sk-container-id-2 div.sk-label label {font-family: monospace;font-weight: bold;display: inline-block;line-height: 1.2em;}#sk-container-id-2 div.sk-label-container {text-align: center;}#sk-container-id-2 div.sk-container {/* jupyter's `normalize.less` sets `[hidden] { display: none; }` but bootstrap.min.css set `[hidden] { display: none !important; }` so we also need the `!important` here to be able to override the default hidden behavior on the sphinx rendered scikit-learn.org. See: https://github.com/scikit-learn/scikit-learn/issues/21755 */display: inline-block !important;position: relative;}#sk-container-id-2 div.sk-text-repr-fallback {display: none;}</style><div id=\"sk-container-id-2\" class=\"sk-top-container\"><div class=\"sk-text-repr-fallback\"><pre>RandomForestClassifier(random_state=2)</pre><b>In a Jupyter environment, please rerun this cell to show the HTML representation or trust the notebook. <br />On GitHub, the HTML representation is unable to render, please try loading this page with nbviewer.org.</b></div><div class=\"sk-container\" hidden><div class=\"sk-item\"><div class=\"sk-estimator sk-toggleable\"><input class=\"sk-toggleable__control sk-hidden--visually\" id=\"sk-estimator-id-2\" type=\"checkbox\" checked><label for=\"sk-estimator-id-2\" class=\"sk-toggleable__label sk-toggleable__label-arrow\">RandomForestClassifier</label><div class=\"sk-toggleable__content\"><pre>RandomForestClassifier(random_state=2)</pre></div></div></div></div></div>"
      ],
      "text/plain": [
       "RandomForestClassifier(random_state=2)"
      ]
     },
     "execution_count": 22,
     "metadata": {},
     "output_type": "execute_result"
    }
   ],
   "source": [
    "scaler = StandardScaler()\n",
    "X_train = scaler.fit_transform(X_train)\n",
    "X_test = scaler.transform(X_test)\n",
    "\n",
    "# Train a random forest classifier\n",
    "clf = RandomForestClassifier(n_estimators=100, random_state=2)\n",
    "clf.fit(X_train, Y_train)"
   ]
  },
  {
   "cell_type": "code",
   "execution_count": 23,
   "id": "28bdc235",
   "metadata": {
    "execution": {
     "iopub.execute_input": "2024-01-14T16:10:42.667967Z",
     "iopub.status.busy": "2024-01-14T16:10:42.667154Z",
     "iopub.status.idle": "2024-01-14T16:10:42.703210Z",
     "shell.execute_reply": "2024-01-14T16:10:42.701699Z"
    },
    "papermill": {
     "duration": 0.057192,
     "end_time": "2024-01-14T16:10:42.706153",
     "exception": false,
     "start_time": "2024-01-14T16:10:42.648961",
     "status": "completed"
    },
    "tags": []
   },
   "outputs": [
    {
     "name": "stdout",
     "output_type": "stream",
     "text": [
      "Train_Accuracy:  1.0\n",
      "\n",
      "Confusion Matrix:\n",
      " [[393   0]\n",
      " [  0 394]]\n",
      "\n",
      "Classification Report:\n",
      "               precision    recall  f1-score   support\n",
      "\n",
      "           0       1.00      1.00      1.00       393\n",
      "           1       1.00      1.00      1.00       394\n",
      "\n",
      "    accuracy                           1.00       787\n",
      "   macro avg       1.00      1.00      1.00       787\n",
      "weighted avg       1.00      1.00      1.00       787\n",
      "\n"
     ]
    }
   ],
   "source": [
    "# For Train data\n",
    "y_pred = clf.predict(X_train)\n",
    "print('Train_Accuracy: ',accuracy_score(Y_train, y_pred))\n",
    "print(\"\\nConfusion Matrix:\\n\", confusion_matrix(Y_train, y_pred))\n",
    "print(\"\\nClassification Report:\\n\", classification_report(Y_train, y_pred))"
   ]
  },
  {
   "cell_type": "code",
   "execution_count": 24,
   "id": "f1ab6238",
   "metadata": {
    "execution": {
     "iopub.execute_input": "2024-01-14T16:10:42.741651Z",
     "iopub.status.busy": "2024-01-14T16:10:42.741149Z",
     "iopub.status.idle": "2024-01-14T16:10:42.771082Z",
     "shell.execute_reply": "2024-01-14T16:10:42.769673Z"
    },
    "papermill": {
     "duration": 0.05059,
     "end_time": "2024-01-14T16:10:42.773752",
     "exception": false,
     "start_time": "2024-01-14T16:10:42.723162",
     "status": "completed"
    },
    "tags": []
   },
   "outputs": [
    {
     "name": "stdout",
     "output_type": "stream",
     "text": [
      "Accuracy: 0.9187817258883249\n",
      "\n",
      "Confusion Matrix:\n",
      " [[95  4]\n",
      " [12 86]]\n",
      "\n",
      "Classification Report:\n",
      "               precision    recall  f1-score   support\n",
      "\n",
      "           0       0.89      0.96      0.92        99\n",
      "           1       0.96      0.88      0.91        98\n",
      "\n",
      "    accuracy                           0.92       197\n",
      "   macro avg       0.92      0.92      0.92       197\n",
      "weighted avg       0.92      0.92      0.92       197\n",
      "\n"
     ]
    }
   ],
   "source": [
    "# For Test data \n",
    "y_pred = clf.predict(X_test)\n",
    "print(\"Accuracy:\", accuracy_score(Y_test, y_pred))\n",
    "print(\"\\nConfusion Matrix:\\n\", confusion_matrix(Y_test, y_pred))\n",
    "print(\"\\nClassification Report:\\n\", classification_report(Y_test, y_pred))"
   ]
  },
  {
   "cell_type": "markdown",
   "id": "dc186b51",
   "metadata": {
    "papermill": {
     "duration": 0.016795,
     "end_time": "2024-01-14T16:10:42.807952",
     "exception": false,
     "start_time": "2024-01-14T16:10:42.791157",
     "status": "completed"
    },
    "tags": []
   },
   "source": [
    "# Isolation Forest"
   ]
  },
  {
   "cell_type": "code",
   "execution_count": 25,
   "id": "ad58fa6b",
   "metadata": {
    "execution": {
     "iopub.execute_input": "2024-01-14T16:10:42.842792Z",
     "iopub.status.busy": "2024-01-14T16:10:42.841980Z",
     "iopub.status.idle": "2024-01-14T16:10:42.846801Z",
     "shell.execute_reply": "2024-01-14T16:10:42.845807Z"
    },
    "papermill": {
     "duration": 0.025159,
     "end_time": "2024-01-14T16:10:42.849267",
     "exception": false,
     "start_time": "2024-01-14T16:10:42.824108",
     "status": "completed"
    },
    "tags": []
   },
   "outputs": [],
   "source": [
    "from sklearn.ensemble import IsolationForest"
   ]
  },
  {
   "cell_type": "code",
   "execution_count": 26,
   "id": "1963eab3",
   "metadata": {
    "execution": {
     "iopub.execute_input": "2024-01-14T16:10:42.886223Z",
     "iopub.status.busy": "2024-01-14T16:10:42.885485Z",
     "iopub.status.idle": "2024-01-14T16:10:43.285551Z",
     "shell.execute_reply": "2024-01-14T16:10:43.284288Z"
    },
    "papermill": {
     "duration": 0.422571,
     "end_time": "2024-01-14T16:10:43.289093",
     "exception": false,
     "start_time": "2024-01-14T16:10:42.866522",
     "status": "completed"
    },
    "tags": []
   },
   "outputs": [],
   "source": [
    "# Isolation Forest\n",
    "iso_forest = IsolationForest(contamination=0.01, random_state=2)\n",
    "iso_forest.fit(X_train)\n",
    "\n",
    "# Predictions\n",
    "y_pred_iso = iso_forest.predict(X_test)\n",
    "y_pred_iso = [1 if x == -1 else 0 for x in y_pred_iso]"
   ]
  },
  {
   "cell_type": "code",
   "execution_count": 27,
   "id": "ccd7a511",
   "metadata": {
    "execution": {
     "iopub.execute_input": "2024-01-14T16:10:43.325300Z",
     "iopub.status.busy": "2024-01-14T16:10:43.324905Z",
     "iopub.status.idle": "2024-01-14T16:10:43.345833Z",
     "shell.execute_reply": "2024-01-14T16:10:43.344208Z"
    },
    "papermill": {
     "duration": 0.042479,
     "end_time": "2024-01-14T16:10:43.348916",
     "exception": false,
     "start_time": "2024-01-14T16:10:43.306437",
     "status": "completed"
    },
    "tags": []
   },
   "outputs": [
    {
     "name": "stdout",
     "output_type": "stream",
     "text": [
      "Accuracy: 0.5076142131979695\n",
      "Confusion Matrix:\n",
      " [[99  0]\n",
      " [97  1]]\n",
      "Classification Report:\n",
      "               precision    recall  f1-score   support\n",
      "\n",
      "           0       0.51      1.00      0.67        99\n",
      "           1       1.00      0.01      0.02        98\n",
      "\n",
      "    accuracy                           0.51       197\n",
      "   macro avg       0.75      0.51      0.35       197\n",
      "weighted avg       0.75      0.51      0.35       197\n",
      "\n"
     ]
    }
   ],
   "source": [
    "# Test data\n",
    "print(\"Accuracy:\", accuracy_score(Y_test, y_pred_iso))\n",
    "print(\"Confusion Matrix:\\n\", confusion_matrix(Y_test, y_pred_iso))\n",
    "print(\"Classification Report:\\n\", classification_report(Y_test, y_pred_iso))"
   ]
  },
  {
   "cell_type": "markdown",
   "id": "e5de0461",
   "metadata": {
    "execution": {
     "iopub.execute_input": "2023-12-27T12:54:28.344123Z",
     "iopub.status.busy": "2023-12-27T12:54:28.343161Z",
     "iopub.status.idle": "2023-12-27T12:54:28.349652Z",
     "shell.execute_reply": "2023-12-27T12:54:28.348518Z",
     "shell.execute_reply.started": "2023-12-27T12:54:28.344064Z"
    },
    "papermill": {
     "duration": 0.016764,
     "end_time": "2024-01-14T16:10:43.382597",
     "exception": false,
     "start_time": "2024-01-14T16:10:43.365833",
     "status": "completed"
    },
    "tags": []
   },
   "source": [
    "# MLP Classifier (Neural_Network)"
   ]
  },
  {
   "cell_type": "code",
   "execution_count": 28,
   "id": "5d8b3413",
   "metadata": {
    "execution": {
     "iopub.execute_input": "2024-01-14T16:10:43.418580Z",
     "iopub.status.busy": "2024-01-14T16:10:43.418145Z",
     "iopub.status.idle": "2024-01-14T16:10:43.431846Z",
     "shell.execute_reply": "2024-01-14T16:10:43.430361Z"
    },
    "papermill": {
     "duration": 0.035582,
     "end_time": "2024-01-14T16:10:43.435109",
     "exception": false,
     "start_time": "2024-01-14T16:10:43.399527",
     "status": "completed"
    },
    "tags": []
   },
   "outputs": [],
   "source": [
    "from sklearn.neural_network import MLPClassifier"
   ]
  },
  {
   "cell_type": "code",
   "execution_count": 29,
   "id": "0665c886",
   "metadata": {
    "execution": {
     "iopub.execute_input": "2024-01-14T16:10:43.471677Z",
     "iopub.status.busy": "2024-01-14T16:10:43.470892Z",
     "iopub.status.idle": "2024-01-14T16:10:45.805661Z",
     "shell.execute_reply": "2024-01-14T16:10:45.804043Z"
    },
    "papermill": {
     "duration": 2.357916,
     "end_time": "2024-01-14T16:10:45.810110",
     "exception": false,
     "start_time": "2024-01-14T16:10:43.452194",
     "status": "completed"
    },
    "tags": []
   },
   "outputs": [],
   "source": [
    "#  Neural Network\n",
    "neural_network = MLPClassifier(hidden_layer_sizes=(128, 64), max_iter=1000, activation='relu', random_state=42)\n",
    "neural_network.fit(X_train, Y_train)\n",
    "y_pred_nn = neural_network.predict(X_test)"
   ]
  },
  {
   "cell_type": "code",
   "execution_count": 30,
   "id": "06ca683b",
   "metadata": {
    "execution": {
     "iopub.execute_input": "2024-01-14T16:10:45.884542Z",
     "iopub.status.busy": "2024-01-14T16:10:45.883862Z",
     "iopub.status.idle": "2024-01-14T16:10:45.914003Z",
     "shell.execute_reply": "2024-01-14T16:10:45.912914Z"
    },
    "papermill": {
     "duration": 0.070529,
     "end_time": "2024-01-14T16:10:45.918077",
     "exception": false,
     "start_time": "2024-01-14T16:10:45.847548",
     "status": "completed"
    },
    "tags": []
   },
   "outputs": [
    {
     "name": "stdout",
     "output_type": "stream",
     "text": [
      "\n",
      "Neural Network:\n",
      "Accuracy: 0.8883248730964467\n",
      "Classification Report:\n",
      "              precision    recall  f1-score   support\n",
      "\n",
      "           0       0.87      0.92      0.89        99\n",
      "           1       0.91      0.86      0.88        98\n",
      "\n",
      "    accuracy                           0.89       197\n",
      "   macro avg       0.89      0.89      0.89       197\n",
      "weighted avg       0.89      0.89      0.89       197\n",
      "\n",
      "Confusion Matrix:\n",
      "[[91  8]\n",
      " [14 84]]\n"
     ]
    }
   ],
   "source": [
    "#test data\n",
    "print(\"\\nNeural Network:\")\n",
    "print(f\"Accuracy: {accuracy_score(Y_test, y_pred_nn)}\")\n",
    "print(\"Classification Report:\")\n",
    "print(classification_report(Y_test, y_pred_nn))\n",
    "print(\"Confusion Matrix:\")\n",
    "print(confusion_matrix(Y_test, y_pred_nn))"
   ]
  },
  {
   "cell_type": "code",
   "execution_count": null,
   "id": "1587a198",
   "metadata": {
    "papermill": {
     "duration": 0.01601,
     "end_time": "2024-01-14T16:10:45.953279",
     "exception": false,
     "start_time": "2024-01-14T16:10:45.937269",
     "status": "completed"
    },
    "tags": []
   },
   "outputs": [],
   "source": []
  }
 ],
 "metadata": {
  "kaggle": {
   "accelerator": "none",
   "dataSources": [
    {
     "datasetId": 310,
     "sourceId": 23498,
     "sourceType": "datasetVersion"
    }
   ],
   "dockerImageVersionId": 30626,
   "isGpuEnabled": false,
   "isInternetEnabled": true,
   "language": "python",
   "sourceType": "notebook"
  },
  "kernelspec": {
   "display_name": "Python 3",
   "language": "python",
   "name": "python3"
  },
  "language_info": {
   "codemirror_mode": {
    "name": "ipython",
    "version": 3
   },
   "file_extension": ".py",
   "mimetype": "text/x-python",
   "name": "python",
   "nbconvert_exporter": "python",
   "pygments_lexer": "ipython3",
   "version": "3.10.12"
  },
  "papermill": {
   "default_parameters": {},
   "duration": 18.627762,
   "end_time": "2024-01-14T16:10:46.692490",
   "environment_variables": {},
   "exception": null,
   "input_path": "__notebook__.ipynb",
   "output_path": "__notebook__.ipynb",
   "parameters": {},
   "start_time": "2024-01-14T16:10:28.064728",
   "version": "2.4.0"
  }
 },
 "nbformat": 4,
 "nbformat_minor": 5
}
